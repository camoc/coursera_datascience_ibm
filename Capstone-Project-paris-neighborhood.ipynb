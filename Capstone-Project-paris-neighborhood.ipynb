{
 "cells": [
  {
   "cell_type": "markdown",
   "metadata": {},
   "source": [
    "# Segmenting and Clustering Neighborhoods in Paris"
   ]
  },
  {
   "cell_type": "markdown",
   "metadata": {},
   "source": [
    "## My project description"
   ]
  },
  {
   "cell_type": "markdown",
   "metadata": {},
   "source": [
    "<div style=\"margin-top: 20px\">\n",
    "\n",
    "<font size = 2>\n",
    "In my Capstone project I want to study the different tourist places by neighborhood  of Paris, the city of lights. Study the different small activities around each tourist place such as restaurants, libraries, etc. Also study the correlation between the population by neighborhood and the number of restaurants and their type.\n",
    " \n",
    "</font>\n",
    "</div>"
   ]
  },
  {
   "cell_type": "markdown",
   "metadata": {},
   "source": [
    "### Data source"
   ]
  },
  {
   "cell_type": "markdown",
   "metadata": {},
   "source": [
    "To do this project, I retrieve the data from the opendata site https://opendata.paris.fr/page/home/, by doing web scraping with beautifulsoup, or dowloading the data in a csv file or using the restful API."
   ]
  },
  {
   "cell_type": "code",
   "execution_count": 1,
   "metadata": {},
   "outputs": [
    {
     "name": "stdout",
     "output_type": "stream",
     "text": [
      "Collecting bs4\n",
      "  Downloading https://files.pythonhosted.org/packages/10/ed/7e8b97591f6f456174139ec089c769f89a94a1a4025fe967691de971f314/bs4-0.0.1.tar.gz\n",
      "Collecting beautifulsoup4 (from bs4)\n",
      "\u001b[?25l  Downloading https://files.pythonhosted.org/packages/cb/a1/c698cf319e9cfed6b17376281bd0efc6bfc8465698f54170ef60a485ab5d/beautifulsoup4-4.8.2-py3-none-any.whl (106kB)\n",
      "\u001b[K     |████████████████████████████████| 112kB 7.0MB/s eta 0:00:01\n",
      "\u001b[?25hCollecting soupsieve>=1.2 (from beautifulsoup4->bs4)\n",
      "  Downloading https://files.pythonhosted.org/packages/81/94/03c0f04471fc245d08d0a99f7946ac228ca98da4fa75796c507f61e688c2/soupsieve-1.9.5-py2.py3-none-any.whl\n",
      "Building wheels for collected packages: bs4\n",
      "  Building wheel for bs4 (setup.py) ... \u001b[?25ldone\n",
      "\u001b[?25h  Stored in directory: /home/jupyterlab/.cache/pip/wheels/a0/b0/b2/4f80b9456b87abedbc0bf2d52235414c3467d8889be38dd472\n",
      "Successfully built bs4\n",
      "Installing collected packages: soupsieve, beautifulsoup4, bs4\n",
      "Successfully installed beautifulsoup4-4.8.2 bs4-0.0.1 soupsieve-1.9.5\n",
      "Collecting lxml\n",
      "\u001b[?25l  Downloading https://files.pythonhosted.org/packages/dd/ba/a0e6866057fc0bbd17192925c1d63a3b85cf522965de9bc02364d08e5b84/lxml-4.5.0-cp36-cp36m-manylinux1_x86_64.whl (5.8MB)\n",
      "\u001b[K     |████████████████████████████████| 5.8MB 7.5MB/s eta 0:00:01\n",
      "\u001b[?25hInstalling collected packages: lxml\n",
      "Successfully installed lxml-4.5.0\n"
     ]
    }
   ],
   "source": [
    "!pip install bs4\n",
    "from bs4 import BeautifulSoup\n",
    "import requests\n",
    "import numpy as np # library to handle data in a vectorized manner\n",
    "\n",
    "import pandas as pd # library for data analsysis\n",
    "pd.set_option('display.max_columns', None)\n",
    "pd.set_option('display.max_rows', None)\n",
    "!pip install lxml\n",
    "import lxml"
   ]
  },
  {
   "cell_type": "code",
   "execution_count": 2,
   "metadata": {},
   "outputs": [
    {
     "name": "stdout",
     "output_type": "stream",
     "text": [
      "--2020-02-13 16:41:03--  https://opendata.paris.fr/explore/dataset/quartier_paris/download?format=csv\n",
      "Resolving opendata.paris.fr (opendata.paris.fr)... 34.249.199.226, 34.248.20.69\n",
      "Connecting to opendata.paris.fr (opendata.paris.fr)|34.249.199.226|:443... connected.\n",
      "HTTP request sent, awaiting response... 200 OK\n",
      "Length: unspecified [application/csv]\n",
      "Saving to: ‘paris_quartiers.csv’\n",
      "\n",
      "paris_quartiers.csv     [  <=>               ] 340.17K  1.06MB/s    in 0.3s    \n",
      "\n",
      "2020-02-13 16:41:05 (1.06 MB/s) - ‘paris_quartiers.csv’ saved [348339]\n",
      "\n"
     ]
    }
   ],
   "source": [
    "!wget  https://opendata.paris.fr/explore/dataset/quartier_paris/download?format=csv -O paris_quartiers.csv"
   ]
  },
  {
   "cell_type": "code",
   "execution_count": 3,
   "metadata": {},
   "outputs": [
    {
     "data": {
      "text/html": [
       "<div>\n",
       "<style scoped>\n",
       "    .dataframe tbody tr th:only-of-type {\n",
       "        vertical-align: middle;\n",
       "    }\n",
       "\n",
       "    .dataframe tbody tr th {\n",
       "        vertical-align: top;\n",
       "    }\n",
       "\n",
       "    .dataframe thead th {\n",
       "        text-align: right;\n",
       "    }\n",
       "</style>\n",
       "<table border=\"1\" class=\"dataframe\">\n",
       "  <thead>\n",
       "    <tr style=\"text-align: right;\">\n",
       "      <th></th>\n",
       "      <th>n_sq_qu</th>\n",
       "      <th>c_qu</th>\n",
       "      <th>c_quinsee</th>\n",
       "      <th>l_qu</th>\n",
       "      <th>c_ar</th>\n",
       "      <th>n_sq_ar</th>\n",
       "      <th>perimetre</th>\n",
       "      <th>surface</th>\n",
       "      <th>geom_x_y</th>\n",
       "      <th>geom</th>\n",
       "    </tr>\n",
       "  </thead>\n",
       "  <tbody>\n",
       "    <tr>\n",
       "      <th>0</th>\n",
       "      <td>750000015</td>\n",
       "      <td>15</td>\n",
       "      <td>7510403</td>\n",
       "      <td>Arsenal</td>\n",
       "      <td>4</td>\n",
       "      <td>750000004</td>\n",
       "      <td>2878.559656</td>\n",
       "      <td>4.872649e+05</td>\n",
       "      <td>48.851585175,2.36476795387</td>\n",
       "      <td>{\"type\": \"Polygon\", \"coordinates\": [[[2.368512...</td>\n",
       "    </tr>\n",
       "    <tr>\n",
       "      <th>1</th>\n",
       "      <td>750000018</td>\n",
       "      <td>18</td>\n",
       "      <td>7510502</td>\n",
       "      <td>Jardin-des-Plantes</td>\n",
       "      <td>5</td>\n",
       "      <td>750000005</td>\n",
       "      <td>4052.729521</td>\n",
       "      <td>7.983894e+05</td>\n",
       "      <td>48.8419401934,2.35689388962</td>\n",
       "      <td>{\"type\": \"Polygon\", \"coordinates\": [[[2.364561...</td>\n",
       "    </tr>\n",
       "    <tr>\n",
       "      <th>2</th>\n",
       "      <td>750000039</td>\n",
       "      <td>39</td>\n",
       "      <td>7511003</td>\n",
       "      <td>Porte-Saint-Martin</td>\n",
       "      <td>10</td>\n",
       "      <td>750000010</td>\n",
       "      <td>3245.891413</td>\n",
       "      <td>6.090347e+05</td>\n",
       "      <td>48.8712446509,2.36150364735</td>\n",
       "      <td>{\"type\": \"Polygon\", \"coordinates\": [[[2.363917...</td>\n",
       "    </tr>\n",
       "    <tr>\n",
       "      <th>3</th>\n",
       "      <td>750000043</td>\n",
       "      <td>43</td>\n",
       "      <td>7511103</td>\n",
       "      <td>Roquette</td>\n",
       "      <td>11</td>\n",
       "      <td>750000011</td>\n",
       "      <td>4973.010557</td>\n",
       "      <td>1.172087e+06</td>\n",
       "      <td>48.8570640408,2.38036406173</td>\n",
       "      <td>{\"type\": \"Polygon\", \"coordinates\": [[[2.379720...</td>\n",
       "    </tr>\n",
       "    <tr>\n",
       "      <th>4</th>\n",
       "      <td>750000046</td>\n",
       "      <td>46</td>\n",
       "      <td>7511202</td>\n",
       "      <td>Picpus</td>\n",
       "      <td>12</td>\n",
       "      <td>750000012</td>\n",
       "      <td>18261.910318</td>\n",
       "      <td>7.205014e+06</td>\n",
       "      <td>48.8303592424,2.42882681508</td>\n",
       "      <td>{\"type\": \"Polygon\", \"coordinates\": [[[2.411249...</td>\n",
       "    </tr>\n",
       "  </tbody>\n",
       "</table>\n",
       "</div>"
      ],
      "text/plain": [
       "     n_sq_qu  c_qu  c_quinsee                l_qu  c_ar    n_sq_ar  \\\n",
       "0  750000015    15    7510403             Arsenal     4  750000004   \n",
       "1  750000018    18    7510502  Jardin-des-Plantes     5  750000005   \n",
       "2  750000039    39    7511003  Porte-Saint-Martin    10  750000010   \n",
       "3  750000043    43    7511103            Roquette    11  750000011   \n",
       "4  750000046    46    7511202              Picpus    12  750000012   \n",
       "\n",
       "      perimetre       surface                     geom_x_y  \\\n",
       "0   2878.559656  4.872649e+05   48.851585175,2.36476795387   \n",
       "1   4052.729521  7.983894e+05  48.8419401934,2.35689388962   \n",
       "2   3245.891413  6.090347e+05  48.8712446509,2.36150364735   \n",
       "3   4973.010557  1.172087e+06  48.8570640408,2.38036406173   \n",
       "4  18261.910318  7.205014e+06  48.8303592424,2.42882681508   \n",
       "\n",
       "                                                geom  \n",
       "0  {\"type\": \"Polygon\", \"coordinates\": [[[2.368512...  \n",
       "1  {\"type\": \"Polygon\", \"coordinates\": [[[2.364561...  \n",
       "2  {\"type\": \"Polygon\", \"coordinates\": [[[2.363917...  \n",
       "3  {\"type\": \"Polygon\", \"coordinates\": [[[2.379720...  \n",
       "4  {\"type\": \"Polygon\", \"coordinates\": [[[2.411249...  "
      ]
     },
     "execution_count": 3,
     "metadata": {},
     "output_type": "execute_result"
    }
   ],
   "source": [
    "df_data = pd.read_csv('paris_quartiers.csv',sep=';')\n",
    "df_data.head()"
   ]
  },
  {
   "cell_type": "markdown",
   "metadata": {},
   "source": [
    "## Data analylis and cleaning data for using it"
   ]
  },
  {
   "cell_type": "code",
   "execution_count": 5,
   "metadata": {},
   "outputs": [
    {
     "data": {
      "text/html": [
       "<div>\n",
       "<style scoped>\n",
       "    .dataframe tbody tr th:only-of-type {\n",
       "        vertical-align: middle;\n",
       "    }\n",
       "\n",
       "    .dataframe tbody tr th {\n",
       "        vertical-align: top;\n",
       "    }\n",
       "\n",
       "    .dataframe thead th {\n",
       "        text-align: right;\n",
       "    }\n",
       "</style>\n",
       "<table border=\"1\" class=\"dataframe\">\n",
       "  <thead>\n",
       "    <tr style=\"text-align: right;\">\n",
       "      <th></th>\n",
       "      <th>Borough</th>\n",
       "      <th>Neighbourhood</th>\n",
       "      <th>Code</th>\n",
       "      <th>Latitude</th>\n",
       "      <th>Longitude</th>\n",
       "    </tr>\n",
       "  </thead>\n",
       "  <tbody>\n",
       "    <tr>\n",
       "      <th>0</th>\n",
       "      <td>4</td>\n",
       "      <td>Arsenal</td>\n",
       "      <td>75104</td>\n",
       "      <td>48.851585</td>\n",
       "      <td>2.364768</td>\n",
       "    </tr>\n",
       "    <tr>\n",
       "      <th>1</th>\n",
       "      <td>5</td>\n",
       "      <td>Jardin-des-Plantes</td>\n",
       "      <td>75105</td>\n",
       "      <td>48.841940</td>\n",
       "      <td>2.356894</td>\n",
       "    </tr>\n",
       "    <tr>\n",
       "      <th>2</th>\n",
       "      <td>10</td>\n",
       "      <td>Porte-Saint-Martin</td>\n",
       "      <td>75110</td>\n",
       "      <td>48.871245</td>\n",
       "      <td>2.361504</td>\n",
       "    </tr>\n",
       "    <tr>\n",
       "      <th>3</th>\n",
       "      <td>11</td>\n",
       "      <td>Roquette</td>\n",
       "      <td>75111</td>\n",
       "      <td>48.857064</td>\n",
       "      <td>2.380364</td>\n",
       "    </tr>\n",
       "    <tr>\n",
       "      <th>4</th>\n",
       "      <td>12</td>\n",
       "      <td>Picpus</td>\n",
       "      <td>75112</td>\n",
       "      <td>48.830359</td>\n",
       "      <td>2.428827</td>\n",
       "    </tr>\n",
       "  </tbody>\n",
       "</table>\n",
       "</div>"
      ],
      "text/plain": [
       "  Borough       Neighbourhood   Code   Latitude  Longitude\n",
       "0       4             Arsenal  75104  48.851585   2.364768\n",
       "1       5  Jardin-des-Plantes  75105  48.841940   2.356894\n",
       "2      10  Porte-Saint-Martin  75110  48.871245   2.361504\n",
       "3      11            Roquette  75111  48.857064   2.380364\n",
       "4      12              Picpus  75112  48.830359   2.428827"
      ]
     },
     "execution_count": 5,
     "metadata": {},
     "output_type": "execute_result"
    }
   ],
   "source": [
    "\n",
    "paris_data = df_data.loc[:,['c_ar','geom_x_y','c_quinsee','l_qu']]\n",
    "paris_data['c_quinsee'] = paris_data['c_quinsee'].astype(str)\n",
    "paris_data['code'] = paris_data['c_quinsee'].str[0:5].astype(str)\n",
    "paris_data['Latitude'] = paris_data['geom_x_y'].str.extract('(.*)\\,')\n",
    "paris_data['Longitude'] = paris_data['geom_x_y'].str.extract(',(.*)')\n",
    "paris_data = paris_data.drop(['geom_x_y','c_quinsee'],axis=1)\n",
    "paris_data.columns= ['Borough', 'Neighbourhood', 'Code', 'Latitude','Longitude']\n",
    "#paris_data = paris_data.reset_index()\n",
    "\n",
    "paris_data['Borough'] = paris_data['Borough'].astype(str)\n",
    "paris_data['Code'] = paris_data['Code'].astype(str)\n",
    "paris_data['Latitude'] = paris_data['Latitude'].astype(float)\n",
    "paris_data['Longitude'] = paris_data['Longitude'].astype(float)\n",
    "\n",
    "paris_data.head()"
   ]
  },
  {
   "cell_type": "markdown",
   "metadata": {},
   "source": [
    "## Load data of paris's borough population"
   ]
  },
  {
   "cell_type": "code",
   "execution_count": 5,
   "metadata": {},
   "outputs": [],
   "source": [
    "page_url  ='https://fr.wikipedia.org/wiki/Arrondissements_de_Paris'\n",
    "\n",
    "response = requests.get(page_url)\n",
    "\n",
    "if response is not None:\n",
    "    soup = BeautifulSoup(response.text, 'html.parser')\n"
   ]
  },
  {
   "cell_type": "code",
   "execution_count": 6,
   "metadata": {},
   "outputs": [
    {
     "name": "stdout",
     "output_type": "stream",
     "text": [
      "None\n"
     ]
    }
   ],
   "source": [
    "#soup.prettify()\n",
    "table = soup.find(\"table\", {\"class\":\"wikitable sortable alternance jquery-tablesorter\"})\n",
    "print(table)"
   ]
  },
  {
   "cell_type": "markdown",
   "metadata": {},
   "source": [
    "# Displaying Paris's Map"
   ]
  },
  {
   "cell_type": "code",
   "execution_count": 11,
   "metadata": {},
   "outputs": [],
   "source": [
    "# Matplotlib and associated plotting modules\n",
    "import matplotlib.cm as cm\n",
    "import matplotlib.colors as colors\n",
    "\n",
    "#!conda install -c conda-forge folium=0.5.0 --yes # uncomment this line if you haven't completed the Foursquare API lab\n",
    "import folium # map rendering library"
   ]
  },
  {
   "cell_type": "code",
   "execution_count": 12,
   "metadata": {},
   "outputs": [
    {
     "data": {
      "text/html": [
       "<div style=\"width:100%;\"><div style=\"position:relative;width:100%;height:0;padding-bottom:60%;\"><iframe src=\"data:text/html;charset=utf-8;base64,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\" style=\"position:absolute;width:100%;height:100%;left:0;top:0;border:none !important;\" allowfullscreen webkitallowfullscreen mozallowfullscreen></iframe></div></div>"
      ],
      "text/plain": [
       "<folium.folium.Map at 0x7f64fdf92cf8>"
      ]
     },
     "execution_count": 12,
     "metadata": {},
     "output_type": "execute_result"
    }
   ],
   "source": [
    "# create map of Paris using latitude and longitude values\n",
    "longitude = 2.3488\n",
    "\n",
    "latitude = 48.85341\n",
    " \n",
    "map_paris = folium.Map(location=[latitude, longitude], zoom_start=12)\n",
    "\n",
    "# add markers to map\n",
    "for lat, lng, codepost, neighborhood, borough in zip(paris_data['Latitude'], paris_data['Longitude'], paris_data['Code'], paris_data['Neighbourhood'], paris_data['Borough']):\n",
    "    label = '{},{}, {} ème'.format(codepost, neighborhood, borough)\n",
    "    label = folium.Popup(label, parse_html=True)\n",
    "    folium.CircleMarker(\n",
    "        [lat, lng],\n",
    "        radius=5,\n",
    "        popup=label,\n",
    "        color='blue',\n",
    "        fill=True,\n",
    "        fill_color='#3186cc',\n",
    "        fill_opacity=0.7,\n",
    "        parse_html=False).add_to(map_paris) \n",
    "\n",
    "map_paris"
   ]
  },
  {
   "cell_type": "markdown",
   "metadata": {},
   "source": [
    "# Using Foursquare data to load Paris's venues "
   ]
  },
  {
   "cell_type": "markdown",
   "metadata": {},
   "source": [
    "Set credentials"
   ]
  },
  {
   "cell_type": "code",
   "execution_count": 14,
   "metadata": {},
   "outputs": [
    {
     "name": "stdout",
     "output_type": "stream",
     "text": [
      "Your credentails:\n",
      "CLIENT_ID: AAXS11JUTRNPPC4LYAOQYLTGYUAH13CIHKHXHJEQJY4ERUDM\n",
      "CLIENT_SECRET:0QDSFHVBM3Z1DPVSSWXMCESYJNHNPPJMRT4OJUGZV3IFNDC0\n"
     ]
    }
   ],
   "source": [
    "CLIENT_ID = 'AAXS11JUTRNPPC4LYAOQYLTGYUAH13CIHKHXHJEQJY4ERUDM' # your Foursquare ID\n",
    "CLIENT_SECRET = '0QDSFHVBM3Z1DPVSSWXMCESYJNHNPPJMRT4OJUGZV3IFNDC0' # your Foursquare Secret\n",
    "VERSION = '20200210' # Foursquare API version\n",
    "\n",
    "print('Your credentails:')\n",
    "print('CLIENT_ID: ' + CLIENT_ID)\n",
    "print('CLIENT_SECRET:' + CLIENT_SECRET)"
   ]
  },
  {
   "cell_type": "markdown",
   "metadata": {},
   "source": [
    "Infos for the first dataframe's rows"
   ]
  },
  {
   "cell_type": "code",
   "execution_count": 15,
   "metadata": {},
   "outputs": [
    {
     "name": "stdout",
     "output_type": "stream",
     "text": [
      "Latitude and longitude values of Arsenal are 48.851585175, 2.36476795387.\n"
     ]
    }
   ],
   "source": [
    "neighborhood_latitude = paris_data.loc[0, 'Latitude'] # neighborhood latitude value\n",
    "neighborhood_longitude = paris_data.loc[0, 'Longitude'] # neighborhood longitude value\n",
    "\n",
    "neighborhood_name = paris_data.loc[0, 'Neighbourhood'] # neighborhood name\n",
    "\n",
    "print('Latitude and longitude values of {} are {}, {}.'.format(neighborhood_name, \n",
    "                                                               neighborhood_latitude, \n",
    "                                                               neighborhood_longitude))"
   ]
  },
  {
   "cell_type": "markdown",
   "metadata": {},
   "source": [
    "Build Foursquare URL with geo coordinates"
   ]
  },
  {
   "cell_type": "code",
   "execution_count": 16,
   "metadata": {},
   "outputs": [],
   "source": [
    "\n",
    "# type your answer here\n",
    "LIMIT = 100 # limit of number of venues returned by Foursquare API\n",
    "\n",
    "radius = 500 # define radius\n",
    "\n",
    "url = 'https://api.foursquare.com/v2/venues/explore?&client_id={}&client_secret={}&v={}&ll={},{}&radius={}&limit={}'.format(\n",
    "    CLIENT_ID, \n",
    "    CLIENT_SECRET, \n",
    "    VERSION, \n",
    "    neighborhood_latitude, \n",
    "    neighborhood_longitude, \n",
    "    radius, \n",
    "    LIMIT)"
   ]
  },
  {
   "cell_type": "markdown",
   "metadata": {},
   "source": [
    "Load data from Foursquare"
   ]
  },
  {
   "cell_type": "code",
   "execution_count": 19,
   "metadata": {},
   "outputs": [],
   "source": [
    "results = requests.get(url).json()\n",
    "#results"
   ]
  },
  {
   "cell_type": "markdown",
   "metadata": {},
   "source": [
    "Display result keys in json file"
   ]
  },
  {
   "cell_type": "code",
   "execution_count": 22,
   "metadata": {},
   "outputs": [
    {
     "data": {
      "text/plain": [
       "dict_keys(['type', 'name', 'items'])"
      ]
     },
     "execution_count": 22,
     "metadata": {},
     "output_type": "execute_result"
    }
   ],
   "source": [
    "results['response']['groups'][0].keys()"
   ]
  },
  {
   "cell_type": "markdown",
   "metadata": {},
   "source": [
    "Function that extracts the category of the venue"
   ]
  },
  {
   "cell_type": "code",
   "execution_count": 24,
   "metadata": {},
   "outputs": [],
   "source": [
    "\n",
    "def get_category_type(row):\n",
    "    try:\n",
    "        categories_list = row['categories']\n",
    "    except:\n",
    "        categories_list = row['venue.categories']\n",
    "        \n",
    "    if len(categories_list) == 0:\n",
    "        return None\n",
    "    else:\n",
    "        return categories_list[0]['name']"
   ]
  },
  {
   "cell_type": "markdown",
   "metadata": {},
   "source": [
    "Normalizing json of venues"
   ]
  },
  {
   "cell_type": "code",
   "execution_count": 25,
   "metadata": {},
   "outputs": [
    {
     "data": {
      "text/html": [
       "<div>\n",
       "<style scoped>\n",
       "    .dataframe tbody tr th:only-of-type {\n",
       "        vertical-align: middle;\n",
       "    }\n",
       "\n",
       "    .dataframe tbody tr th {\n",
       "        vertical-align: top;\n",
       "    }\n",
       "\n",
       "    .dataframe thead th {\n",
       "        text-align: right;\n",
       "    }\n",
       "</style>\n",
       "<table border=\"1\" class=\"dataframe\">\n",
       "  <thead>\n",
       "    <tr style=\"text-align: right;\">\n",
       "      <th></th>\n",
       "      <th>name</th>\n",
       "      <th>categories</th>\n",
       "      <th>lat</th>\n",
       "      <th>lng</th>\n",
       "    </tr>\n",
       "  </thead>\n",
       "  <tbody>\n",
       "    <tr>\n",
       "      <th>0</th>\n",
       "      <td>Sherry Butt</td>\n",
       "      <td>Cocktail Bar</td>\n",
       "      <td>48.853267</td>\n",
       "      <td>2.364114</td>\n",
       "    </tr>\n",
       "    <tr>\n",
       "      <th>1</th>\n",
       "      <td>Maria Loca</td>\n",
       "      <td>Cocktail Bar</td>\n",
       "      <td>48.852123</td>\n",
       "      <td>2.365667</td>\n",
       "    </tr>\n",
       "    <tr>\n",
       "      <th>2</th>\n",
       "      <td>Pavillon de l'Arsenal</td>\n",
       "      <td>Museum</td>\n",
       "      <td>48.850650</td>\n",
       "      <td>2.362340</td>\n",
       "    </tr>\n",
       "    <tr>\n",
       "      <th>3</th>\n",
       "      <td>Keep Cool</td>\n",
       "      <td>Gym</td>\n",
       "      <td>48.852085</td>\n",
       "      <td>2.363371</td>\n",
       "    </tr>\n",
       "    <tr>\n",
       "      <th>4</th>\n",
       "      <td>Le Temps des Cerises</td>\n",
       "      <td>French Restaurant</td>\n",
       "      <td>48.852554</td>\n",
       "      <td>2.364195</td>\n",
       "    </tr>\n",
       "  </tbody>\n",
       "</table>\n",
       "</div>"
      ],
      "text/plain": [
       "                    name         categories        lat       lng\n",
       "0            Sherry Butt       Cocktail Bar  48.853267  2.364114\n",
       "1             Maria Loca       Cocktail Bar  48.852123  2.365667\n",
       "2  Pavillon de l'Arsenal             Museum  48.850650  2.362340\n",
       "3              Keep Cool                Gym  48.852085  2.363371\n",
       "4   Le Temps des Cerises  French Restaurant  48.852554  2.364195"
      ]
     },
     "execution_count": 25,
     "metadata": {},
     "output_type": "execute_result"
    }
   ],
   "source": [
    "from pandas.io.json import json_normalize\n",
    "\n",
    "venues = results['response']['groups'][0]['items']\n",
    "    \n",
    "nearby_venues = json_normalize(venues) # flatten JSON\n",
    "\n",
    "# filter columns\n",
    "filtered_columns = ['venue.name', 'venue.categories', 'venue.location.lat', 'venue.location.lng']\n",
    "nearby_venues =nearby_venues.loc[:, filtered_columns]\n",
    "\n",
    "# filter the category for each row\n",
    "nearby_venues['venue.categories'] = nearby_venues.apply(get_category_type, axis=1)\n",
    "\n",
    "# clean columns\n",
    "nearby_venues.columns = [col.split(\".\")[-1] for col in nearby_venues.columns]\n",
    "\n",
    "nearby_venues.head()"
   ]
  },
  {
   "cell_type": "markdown",
   "metadata": {},
   "source": [
    "List of Categories"
   ]
  },
  {
   "cell_type": "code",
   "execution_count": 27,
   "metadata": {},
   "outputs": [
    {
     "data": {
      "text/plain": [
       "array(['Cocktail Bar', 'Museum', 'Gym', 'French Restaurant',\n",
       "       'Vegetarian / Vegan Restaurant', 'Tapas Restaurant', 'Pizza Place',\n",
       "       'Beer Store', 'Spa', 'Pedestrian Plaza', 'Wine Bar', 'Park',\n",
       "       'Garden', 'Plaza', 'Thai Restaurant',\n",
       "       'Southwestern French Restaurant', 'Boat or Ferry',\n",
       "       'Italian Restaurant', 'Pub', 'Gastropub', 'Opera House', 'Bakery',\n",
       "       'Hotel', 'Brazilian Restaurant', 'Historic Site', 'Gourmet Shop',\n",
       "       'Music Venue', 'Restaurant', 'Supermarket', 'Seafood Restaurant',\n",
       "       'Coffee Shop', 'Camera Store', 'Canal Lock', 'Tea Room', 'Bar',\n",
       "       'Bagel Shop', 'Ice Cream Shop', 'Bistro', 'Burger Joint',\n",
       "       'Szechuan Restaurant'], dtype=object)"
      ]
     },
     "execution_count": 27,
     "metadata": {},
     "output_type": "execute_result"
    }
   ],
   "source": [
    "nearby_venues['categories'].unique()"
   ]
  },
  {
   "cell_type": "markdown",
   "metadata": {},
   "source": [
    "Number of venues from Foursquare"
   ]
  },
  {
   "cell_type": "code",
   "execution_count": 29,
   "metadata": {},
   "outputs": [
    {
     "name": "stdout",
     "output_type": "stream",
     "text": [
      "69 venues were returned by Foursquare.\n"
     ]
    }
   ],
   "source": [
    "print('{} venues were returned by Foursquare.'.format(nearby_venues.shape[0]))"
   ]
  },
  {
   "cell_type": "code",
   "execution_count": null,
   "metadata": {},
   "outputs": [],
   "source": []
  }
 ],
 "metadata": {
  "kernelspec": {
   "display_name": "Python",
   "language": "python",
   "name": "conda-env-python-py"
  },
  "language_info": {
   "codemirror_mode": {
    "name": "ipython",
    "version": 3
   },
   "file_extension": ".py",
   "mimetype": "text/x-python",
   "name": "python",
   "nbconvert_exporter": "python",
   "pygments_lexer": "ipython3",
   "version": "3.6.7"
  }
 },
 "nbformat": 4,
 "nbformat_minor": 4
}
