{
 "cells": [
  {
   "cell_type": "markdown",
   "metadata": {},
   "source": [
    "# Segmenting and Clustering Neighborhoods in Paris"
   ]
  },
  {
   "cell_type": "markdown",
   "metadata": {},
   "source": [
    "## My project description"
   ]
  },
  {
   "cell_type": "markdown",
   "metadata": {},
   "source": [
    "<div style=\"margin-top: 20px\">\n",
    "\n",
    "<font size = 2>\n",
    "In my Capstone project I want to study the different tourist places by neighborhood  of Paris, the city of lights. Study the different small activities around each tourist place such as restaurants, libraries, etc. Also study the correlation between the population by neighborhood and the number of restaurants and their type.\n",
    " \n",
    "</font>\n",
    "</div>"
   ]
  },
  {
   "cell_type": "markdown",
   "metadata": {},
   "source": [
    "### Data source"
   ]
  },
  {
   "cell_type": "markdown",
   "metadata": {},
   "source": [
    "To do this project, I retrieve the data from the opendata site https://opendata.paris.fr/page/home/, by doing web scraping with beautifulsoup, or dowloading the data in a csv file or using the restful API."
   ]
  },
  {
   "cell_type": "code",
   "execution_count": 24,
   "metadata": {},
   "outputs": [],
   "source": [
    "#!pip install bs4\n",
    "from bs4 import BeautifulSoup\n",
    "import requests\n",
    "import numpy as np # library to handle data in a vectorized manner\n",
    "\n",
    "import pandas as pd # library for data analsysis\n",
    "pd.set_option('display.max_columns', None)\n",
    "pd.set_option('display.max_rows', None)"
   ]
  },
  {
   "cell_type": "code",
   "execution_count": 28,
   "metadata": {},
   "outputs": [
    {
     "name": "stdout",
     "output_type": "stream",
     "text": [
      "--2020-02-13 10:47:38--  https://opendata.paris.fr/explore/dataset/quartier_paris/download?format=csv\n",
      "Resolving opendata.paris.fr (opendata.paris.fr)... 34.249.199.226, 34.248.20.69\n",
      "Connecting to opendata.paris.fr (opendata.paris.fr)|34.249.199.226|:443... connected.\n",
      "HTTP request sent, awaiting response... 200 OK\n",
      "Length: unspecified [application/csv]\n",
      "Saving to: ‘paris_quartiers.csv’\n",
      "\n",
      "paris_quartiers.csv     [  <=>               ] 340.17K  1.16MB/s    in 0.3s    \n",
      "\n",
      "2020-02-13 10:47:40 (1.16 MB/s) - ‘paris_quartiers.csv’ saved [348339]\n",
      "\n"
     ]
    }
   ],
   "source": [
    "!wget  https://opendata.paris.fr/explore/dataset/quartier_paris/download?format=csv -O paris_quartiers.csv"
   ]
  },
  {
   "cell_type": "code",
   "execution_count": 29,
   "metadata": {},
   "outputs": [
    {
     "data": {
      "text/html": [
       "<div>\n",
       "<style scoped>\n",
       "    .dataframe tbody tr th:only-of-type {\n",
       "        vertical-align: middle;\n",
       "    }\n",
       "\n",
       "    .dataframe tbody tr th {\n",
       "        vertical-align: top;\n",
       "    }\n",
       "\n",
       "    .dataframe thead th {\n",
       "        text-align: right;\n",
       "    }\n",
       "</style>\n",
       "<table border=\"1\" class=\"dataframe\">\n",
       "  <thead>\n",
       "    <tr style=\"text-align: right;\">\n",
       "      <th></th>\n",
       "      <th>n_sq_qu</th>\n",
       "      <th>c_qu</th>\n",
       "      <th>c_quinsee</th>\n",
       "      <th>l_qu</th>\n",
       "      <th>c_ar</th>\n",
       "      <th>n_sq_ar</th>\n",
       "      <th>perimetre</th>\n",
       "      <th>surface</th>\n",
       "      <th>geom_x_y</th>\n",
       "      <th>geom</th>\n",
       "    </tr>\n",
       "  </thead>\n",
       "  <tbody>\n",
       "    <tr>\n",
       "      <th>0</th>\n",
       "      <td>750000015</td>\n",
       "      <td>15</td>\n",
       "      <td>7510403</td>\n",
       "      <td>Arsenal</td>\n",
       "      <td>4</td>\n",
       "      <td>750000004</td>\n",
       "      <td>2878.559656</td>\n",
       "      <td>4.872649e+05</td>\n",
       "      <td>48.851585175,2.36476795387</td>\n",
       "      <td>{\"type\": \"Polygon\", \"coordinates\": [[[2.368512...</td>\n",
       "    </tr>\n",
       "    <tr>\n",
       "      <th>1</th>\n",
       "      <td>750000018</td>\n",
       "      <td>18</td>\n",
       "      <td>7510502</td>\n",
       "      <td>Jardin-des-Plantes</td>\n",
       "      <td>5</td>\n",
       "      <td>750000005</td>\n",
       "      <td>4052.729521</td>\n",
       "      <td>7.983894e+05</td>\n",
       "      <td>48.8419401934,2.35689388962</td>\n",
       "      <td>{\"type\": \"Polygon\", \"coordinates\": [[[2.364561...</td>\n",
       "    </tr>\n",
       "    <tr>\n",
       "      <th>2</th>\n",
       "      <td>750000039</td>\n",
       "      <td>39</td>\n",
       "      <td>7511003</td>\n",
       "      <td>Porte-Saint-Martin</td>\n",
       "      <td>10</td>\n",
       "      <td>750000010</td>\n",
       "      <td>3245.891413</td>\n",
       "      <td>6.090347e+05</td>\n",
       "      <td>48.8712446509,2.36150364735</td>\n",
       "      <td>{\"type\": \"Polygon\", \"coordinates\": [[[2.363917...</td>\n",
       "    </tr>\n",
       "    <tr>\n",
       "      <th>3</th>\n",
       "      <td>750000043</td>\n",
       "      <td>43</td>\n",
       "      <td>7511103</td>\n",
       "      <td>Roquette</td>\n",
       "      <td>11</td>\n",
       "      <td>750000011</td>\n",
       "      <td>4973.010557</td>\n",
       "      <td>1.172087e+06</td>\n",
       "      <td>48.8570640408,2.38036406173</td>\n",
       "      <td>{\"type\": \"Polygon\", \"coordinates\": [[[2.379720...</td>\n",
       "    </tr>\n",
       "    <tr>\n",
       "      <th>4</th>\n",
       "      <td>750000046</td>\n",
       "      <td>46</td>\n",
       "      <td>7511202</td>\n",
       "      <td>Picpus</td>\n",
       "      <td>12</td>\n",
       "      <td>750000012</td>\n",
       "      <td>18261.910318</td>\n",
       "      <td>7.205014e+06</td>\n",
       "      <td>48.8303592424,2.42882681508</td>\n",
       "      <td>{\"type\": \"Polygon\", \"coordinates\": [[[2.411249...</td>\n",
       "    </tr>\n",
       "  </tbody>\n",
       "</table>\n",
       "</div>"
      ],
      "text/plain": [
       "     n_sq_qu  c_qu  c_quinsee                l_qu  c_ar    n_sq_ar  \\\n",
       "0  750000015    15    7510403             Arsenal     4  750000004   \n",
       "1  750000018    18    7510502  Jardin-des-Plantes     5  750000005   \n",
       "2  750000039    39    7511003  Porte-Saint-Martin    10  750000010   \n",
       "3  750000043    43    7511103            Roquette    11  750000011   \n",
       "4  750000046    46    7511202              Picpus    12  750000012   \n",
       "\n",
       "      perimetre       surface                     geom_x_y  \\\n",
       "0   2878.559656  4.872649e+05   48.851585175,2.36476795387   \n",
       "1   4052.729521  7.983894e+05  48.8419401934,2.35689388962   \n",
       "2   3245.891413  6.090347e+05  48.8712446509,2.36150364735   \n",
       "3   4973.010557  1.172087e+06  48.8570640408,2.38036406173   \n",
       "4  18261.910318  7.205014e+06  48.8303592424,2.42882681508   \n",
       "\n",
       "                                                geom  \n",
       "0  {\"type\": \"Polygon\", \"coordinates\": [[[2.368512...  \n",
       "1  {\"type\": \"Polygon\", \"coordinates\": [[[2.364561...  \n",
       "2  {\"type\": \"Polygon\", \"coordinates\": [[[2.363917...  \n",
       "3  {\"type\": \"Polygon\", \"coordinates\": [[[2.379720...  \n",
       "4  {\"type\": \"Polygon\", \"coordinates\": [[[2.411249...  "
      ]
     },
     "execution_count": 29,
     "metadata": {},
     "output_type": "execute_result"
    }
   ],
   "source": [
    "df_data = pd.read_csv('paris_quartiers.csv',sep=';')\n",
    "df_data.head()"
   ]
  },
  {
   "cell_type": "markdown",
   "metadata": {},
   "source": [
    "## Data analylis and cleaning data for using it"
   ]
  },
  {
   "cell_type": "code",
   "execution_count": 40,
   "metadata": {},
   "outputs": [
    {
     "data": {
      "text/html": [
       "<div>\n",
       "<style scoped>\n",
       "    .dataframe tbody tr th:only-of-type {\n",
       "        vertical-align: middle;\n",
       "    }\n",
       "\n",
       "    .dataframe tbody tr th {\n",
       "        vertical-align: top;\n",
       "    }\n",
       "\n",
       "    .dataframe thead th {\n",
       "        text-align: right;\n",
       "    }\n",
       "</style>\n",
       "<table border=\"1\" class=\"dataframe\">\n",
       "  <thead>\n",
       "    <tr style=\"text-align: right;\">\n",
       "      <th></th>\n",
       "      <th>Borough</th>\n",
       "      <th>Neighbourhood</th>\n",
       "      <th>Code</th>\n",
       "      <th>Latitude</th>\n",
       "      <th>Longitude</th>\n",
       "    </tr>\n",
       "  </thead>\n",
       "  <tbody>\n",
       "    <tr>\n",
       "      <th>0</th>\n",
       "      <td>4</td>\n",
       "      <td>Arsenal</td>\n",
       "      <td>75104</td>\n",
       "      <td>48.851585</td>\n",
       "      <td>2.364768</td>\n",
       "    </tr>\n",
       "    <tr>\n",
       "      <th>1</th>\n",
       "      <td>5</td>\n",
       "      <td>Jardin-des-Plantes</td>\n",
       "      <td>75105</td>\n",
       "      <td>48.841940</td>\n",
       "      <td>2.356894</td>\n",
       "    </tr>\n",
       "    <tr>\n",
       "      <th>2</th>\n",
       "      <td>10</td>\n",
       "      <td>Porte-Saint-Martin</td>\n",
       "      <td>75110</td>\n",
       "      <td>48.871245</td>\n",
       "      <td>2.361504</td>\n",
       "    </tr>\n",
       "    <tr>\n",
       "      <th>3</th>\n",
       "      <td>11</td>\n",
       "      <td>Roquette</td>\n",
       "      <td>75111</td>\n",
       "      <td>48.857064</td>\n",
       "      <td>2.380364</td>\n",
       "    </tr>\n",
       "    <tr>\n",
       "      <th>4</th>\n",
       "      <td>12</td>\n",
       "      <td>Picpus</td>\n",
       "      <td>75112</td>\n",
       "      <td>48.830359</td>\n",
       "      <td>2.428827</td>\n",
       "    </tr>\n",
       "  </tbody>\n",
       "</table>\n",
       "</div>"
      ],
      "text/plain": [
       "  Borough       Neighbourhood   Code   Latitude  Longitude\n",
       "0       4             Arsenal  75104  48.851585   2.364768\n",
       "1       5  Jardin-des-Plantes  75105  48.841940   2.356894\n",
       "2      10  Porte-Saint-Martin  75110  48.871245   2.361504\n",
       "3      11            Roquette  75111  48.857064   2.380364\n",
       "4      12              Picpus  75112  48.830359   2.428827"
      ]
     },
     "execution_count": 40,
     "metadata": {},
     "output_type": "execute_result"
    }
   ],
   "source": [
    "\n",
    "paris_data = df_data.loc[:,['c_ar','geom_x_y','c_quinsee','l_qu']]\n",
    "paris_data['c_quinsee'] = paris_data['c_quinsee'].astype(str)\n",
    "paris_data['code'] = paris_data['c_quinsee'].str[0:5].astype(str)\n",
    "paris_data['Latitude'] = paris_data['geom_x_y'].str.extract('(.*)\\,')\n",
    "paris_data['Longitude'] = paris_data['geom_x_y'].str.extract(',(.*)')\n",
    "paris_data = paris_data.drop(['geom_x_y','c_quinsee'],axis=1)\n",
    "paris_data.columns= ['Borough', 'Neighbourhood', 'Code', 'Latitude','Longitude']\n",
    "#paris_data = paris_data.reset_index()\n",
    "\n",
    "paris_data['Borough'] = paris_data['Borough'].astype(str)\n",
    "paris_data['Code'] = paris_data['Code'].astype(str)\n",
    "paris_data['Latitude'] = paris_data['Latitude'].astype(float)\n",
    "paris_data['Longitude'] = paris_data['Longitude'].astype(float)\n",
    "\n",
    "paris_data.head()"
   ]
  }
 ],
 "metadata": {
  "kernelspec": {
   "display_name": "Python",
   "language": "python",
   "name": "conda-env-python-py"
  },
  "language_info": {
   "codemirror_mode": {
    "name": "ipython",
    "version": 3
   },
   "file_extension": ".py",
   "mimetype": "text/x-python",
   "name": "python",
   "nbconvert_exporter": "python",
   "pygments_lexer": "ipython3",
   "version": "3.6.7"
  }
 },
 "nbformat": 4,
 "nbformat_minor": 4
}
